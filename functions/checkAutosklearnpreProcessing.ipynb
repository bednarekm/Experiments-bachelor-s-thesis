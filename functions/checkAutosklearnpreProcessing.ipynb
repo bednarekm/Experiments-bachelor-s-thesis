{
  "nbformat": 4,
  "nbformat_minor": 0,
  "metadata": {
    "colab": {
      "provenance": []
    },
    "kernelspec": {
      "name": "python3",
      "display_name": "Python 3"
    },
    "language_info": {
      "name": "python"
    }
  },
  "cells": [
    {
      "cell_type": "code",
      "execution_count": null,
      "metadata": {
        "id": "jHOyNuNciMq-"
      },
      "outputs": [],
      "source": [
        "def get_data_and_scoring_function(dataset_Id, additional_data):\n",
        "  if dataset_Id == 0:\n",
        "    X = additional_data.iloc[:, :-1]\n",
        "    y = additional_data.loc[:, \"class\"]\n",
        "  else:\n",
        "    X, y = sklearn.datasets.fetch_openml(data_id= dataset_Id, as_frame=True, return_X_y=True)\n",
        "\n",
        "  X_train, X_test, y_train, y_test = sklearn.model_selection.train_test_split(\n",
        "      X, y, stratify=y, test_size = 0.3\n",
        "  )\n",
        "\n",
        "  def scoring_function_auc(estimator):\n",
        "      predictions = estimator.predict_proba(X_test)[:, 1]\n",
        "      return sklearn.metrics.roc_auc_score(y_test, predictions)\n",
        "\n",
        "  def scoring_function_acc(estimator):\n",
        "    y_pred= estimator.predict(X_test)\n",
        "    acc_score= accuracy_score(y_test, y_pred)\n",
        "    return acc_score\n",
        "\n",
        "\n",
        "    #def train_scoring_function(estimator):\n",
        "        #predictions = estimator.predict_proba(X_train)[:, 1]\n",
        "        #return sklearn.metrics.roc_auc_score(y_train, predictions)\n",
        "\n",
        "\n",
        "\n",
        "  return X_train, y_train, X_test, y_test, scoring_function_acc, scoring_function_auc"
      ]
    },
    {
      "cell_type": "code",
      "source": [
        "def checkAutoSklearnPreprocessing(res_acc_list, res_auc_list, result_log_file , X_train, y_train, X_test, y_test, scoring_function_acc, scoring_function_auc, time_limit):\n",
        "    ## result_list_acc, result_list_roc - empty lists that will contain the results (accuracy and auc scores), result_log_file - the file in which there will be information about preprocessing,\n",
        "    ## scoring_function_acc/auc - functions created earlier, that calculate accuracy and auc scores, time_limit - time limit of training\n",
        "    settings = {\n",
        "    \"time_left_for_this_task\": time_limit,  # seconds\n",
        "    \"seed\": 42,\n",
        "    \"metric\": roc_auc,\n",
        "    \"n_jobs\": 4,\n",
        "    }\n",
        "\n",
        "    resampling_strategy = \"holdout\"\n",
        "\n",
        "    autoSklearnClassifierInstance = AutoSklearnClassifier(\n",
        "        **settings,\n",
        "        resampling_strategy=resampling_strategy\n",
        "    )\n",
        "\n",
        "    autoSklearnClassifierInstance.fit(X_train, y_train)\n",
        "\n",
        "    models = autoSklearnClassifierInstance.show_models()\n",
        "    result_file = open(result_log_file,\"w\")\n",
        "    print(models)\n",
        "    for model_id in models:\n",
        "      print(model_id)\n",
        "      runhistory = autoSklearnClassifierInstance.automl_.runhistory_\n",
        "      full_config = runhistory.ids_config[model_id]\n",
        "      full_config\n",
        "      result_file.write(str(full_config))\n",
        "      print(full_config)\n",
        "      result_file.write(f\"Accuracy:{scoring_function_acc(autoSklearnClassifierInstance)}, AUC:{scoring_function_auc(autoSklearnClassifierInstance)} \")\n",
        "    result_file.close()\n",
        "\n",
        "    # zapisujemy wyniki roc i auc do list\n",
        "\n",
        "    res_acc_list.append(scoring_function_acc(autoSklearnClassifierInstance))\n",
        "    res_auc_list.append(scoring_function_auc(autoSklearnClassifierInstance))\n",
        "\n",
        "\n",
        "\n",
        "\n",
        "\n"
      ],
      "metadata": {
        "id": "6N6Lrm1piYya"
      },
      "execution_count": null,
      "outputs": []
    }
  ]
}