{
 "cells": [
  {
   "cell_type": "code",
   "execution_count": null,
   "id": "b006f9f6",
   "metadata": {},
   "outputs": [],
   "source": [
    "##### EKSPERYMENT 3 #################"
   ]
  },
  {
   "cell_type": "code",
   "execution_count": null,
   "id": "cd7636be",
   "metadata": {},
   "outputs": [],
   "source": [
    "### W celu porównania zdolności predykcyjnych oraz preprocessingu frameworków rozważanych w pracy dyplomowej \n",
    "### z tradycyjnymi metodami, tworzymy pipeline, który będzie z użyciem algorytmu Random forest przewidywał zmienną celu\n",
    "### class w zbiorze danych generated3"
   ]
  },
  {
   "cell_type": "code",
   "execution_count": 2,
   "id": "f601d280",
   "metadata": {},
   "outputs": [],
   "source": [
    "# importujemy potrzebne rzeczy\n",
    "\n",
    "import numpy as np\n",
    "import pandas as pd\n",
    "from sklearn.model_selection import train_test_split\n",
    "from sklearn.feature_selection import SelectFromModel\n",
    "from sklearn.linear_model import LogisticRegression\n",
    "from sklearn.pipeline import Pipeline\n",
    "from sklearn.tree import DecisionTreeClassifier"
   ]
  },
  {
   "cell_type": "code",
   "execution_count": 4,
   "id": "b36da045",
   "metadata": {},
   "outputs": [
    {
     "data": {
      "text/html": [
       "<div>\n",
       "<style scoped>\n",
       "    .dataframe tbody tr th:only-of-type {\n",
       "        vertical-align: middle;\n",
       "    }\n",
       "\n",
       "    .dataframe tbody tr th {\n",
       "        vertical-align: top;\n",
       "    }\n",
       "\n",
       "    .dataframe thead th {\n",
       "        text-align: right;\n",
       "    }\n",
       "</style>\n",
       "<table border=\"1\" class=\"dataframe\">\n",
       "  <thead>\n",
       "    <tr style=\"text-align: right;\">\n",
       "      <th></th>\n",
       "      <th>Unnamed: 0</th>\n",
       "      <th>col1</th>\n",
       "      <th>col2</th>\n",
       "      <th>col3</th>\n",
       "      <th>col4</th>\n",
       "      <th>col5</th>\n",
       "      <th>col6</th>\n",
       "      <th>col7</th>\n",
       "      <th>col8</th>\n",
       "      <th>col9</th>\n",
       "      <th>Class</th>\n",
       "    </tr>\n",
       "  </thead>\n",
       "  <tbody>\n",
       "    <tr>\n",
       "      <th>0</th>\n",
       "      <td>1</td>\n",
       "      <td>112.895254</td>\n",
       "      <td>-1.463421</td>\n",
       "      <td>9.978380</td>\n",
       "      <td>112.895254</td>\n",
       "      <td>16.027942</td>\n",
       "      <td>29.935141</td>\n",
       "      <td>23.286328</td>\n",
       "      <td>-0.731711</td>\n",
       "      <td>No</td>\n",
       "      <td>0</td>\n",
       "    </tr>\n",
       "    <tr>\n",
       "      <th>1</th>\n",
       "      <td>2</td>\n",
       "      <td>56.643203</td>\n",
       "      <td>-1.170813</td>\n",
       "      <td>4.451193</td>\n",
       "      <td>56.643203</td>\n",
       "      <td>-49.038639</td>\n",
       "      <td>13.353580</td>\n",
       "      <td>25.323074</td>\n",
       "      <td>-0.585407</td>\n",
       "      <td>Yes</td>\n",
       "      <td>1</td>\n",
       "    </tr>\n",
       "    <tr>\n",
       "      <th>2</th>\n",
       "      <td>3</td>\n",
       "      <td>98.492637</td>\n",
       "      <td>0.589826</td>\n",
       "      <td>8.378881</td>\n",
       "      <td>98.492637</td>\n",
       "      <td>-13.451975</td>\n",
       "      <td>25.136642</td>\n",
       "      <td>-18.482716</td>\n",
       "      <td>0.294913</td>\n",
       "      <td>Yes</td>\n",
       "      <td>1</td>\n",
       "    </tr>\n",
       "    <tr>\n",
       "      <th>3</th>\n",
       "      <td>4</td>\n",
       "      <td>90.825134</td>\n",
       "      <td>-0.628418</td>\n",
       "      <td>-6.689641</td>\n",
       "      <td>90.825134</td>\n",
       "      <td>16.511973</td>\n",
       "      <td>-20.068924</td>\n",
       "      <td>-12.727652</td>\n",
       "      <td>-0.314209</td>\n",
       "      <td>Yes</td>\n",
       "      <td>0</td>\n",
       "    </tr>\n",
       "    <tr>\n",
       "      <th>4</th>\n",
       "      <td>5</td>\n",
       "      <td>126.083134</td>\n",
       "      <td>-2.131950</td>\n",
       "      <td>1.839880</td>\n",
       "      <td>126.083134</td>\n",
       "      <td>-7.126570</td>\n",
       "      <td>5.519639</td>\n",
       "      <td>-1.759253</td>\n",
       "      <td>-1.065975</td>\n",
       "      <td>No</td>\n",
       "      <td>0</td>\n",
       "    </tr>\n",
       "    <tr>\n",
       "      <th>...</th>\n",
       "      <td>...</td>\n",
       "      <td>...</td>\n",
       "      <td>...</td>\n",
       "      <td>...</td>\n",
       "      <td>...</td>\n",
       "      <td>...</td>\n",
       "      <td>...</td>\n",
       "      <td>...</td>\n",
       "      <td>...</td>\n",
       "      <td>...</td>\n",
       "      <td>...</td>\n",
       "    </tr>\n",
       "    <tr>\n",
       "      <th>9995</th>\n",
       "      <td>9996</td>\n",
       "      <td>98.797112</td>\n",
       "      <td>-4.172046</td>\n",
       "      <td>-9.761022</td>\n",
       "      <td>98.797112</td>\n",
       "      <td>29.434417</td>\n",
       "      <td>-29.283066</td>\n",
       "      <td>-6.550079</td>\n",
       "      <td>-2.086023</td>\n",
       "      <td>No</td>\n",
       "      <td>1</td>\n",
       "    </tr>\n",
       "    <tr>\n",
       "      <th>9996</th>\n",
       "      <td>9997</td>\n",
       "      <td>145.288377</td>\n",
       "      <td>-0.560509</td>\n",
       "      <td>0.280363</td>\n",
       "      <td>145.288377</td>\n",
       "      <td>-10.615147</td>\n",
       "      <td>0.841089</td>\n",
       "      <td>6.987163</td>\n",
       "      <td>-0.280254</td>\n",
       "      <td>No</td>\n",
       "      <td>1</td>\n",
       "    </tr>\n",
       "    <tr>\n",
       "      <th>9997</th>\n",
       "      <td>9998</td>\n",
       "      <td>82.474812</td>\n",
       "      <td>-1.273415</td>\n",
       "      <td>6.322509</td>\n",
       "      <td>82.474812</td>\n",
       "      <td>-31.068394</td>\n",
       "      <td>18.967528</td>\n",
       "      <td>5.446964</td>\n",
       "      <td>-0.636707</td>\n",
       "      <td>Yes</td>\n",
       "      <td>1</td>\n",
       "    </tr>\n",
       "    <tr>\n",
       "      <th>9998</th>\n",
       "      <td>9999</td>\n",
       "      <td>105.075030</td>\n",
       "      <td>-0.713320</td>\n",
       "      <td>1.593137</td>\n",
       "      <td>105.075030</td>\n",
       "      <td>-40.745323</td>\n",
       "      <td>4.779411</td>\n",
       "      <td>-5.748540</td>\n",
       "      <td>-0.356660</td>\n",
       "      <td>Yes</td>\n",
       "      <td>0</td>\n",
       "    </tr>\n",
       "    <tr>\n",
       "      <th>9999</th>\n",
       "      <td>10000</td>\n",
       "      <td>111.582741</td>\n",
       "      <td>-1.037001</td>\n",
       "      <td>-7.770376</td>\n",
       "      <td>111.582741</td>\n",
       "      <td>-26.387997</td>\n",
       "      <td>-23.311127</td>\n",
       "      <td>19.678987</td>\n",
       "      <td>-0.518501</td>\n",
       "      <td>No</td>\n",
       "      <td>0</td>\n",
       "    </tr>\n",
       "  </tbody>\n",
       "</table>\n",
       "<p>10000 rows × 11 columns</p>\n",
       "</div>"
      ],
      "text/plain": [
       "      Unnamed: 0        col1      col2      col3        col4       col5  \\\n",
       "0              1  112.895254 -1.463421  9.978380  112.895254  16.027942   \n",
       "1              2   56.643203 -1.170813  4.451193   56.643203 -49.038639   \n",
       "2              3   98.492637  0.589826  8.378881   98.492637 -13.451975   \n",
       "3              4   90.825134 -0.628418 -6.689641   90.825134  16.511973   \n",
       "4              5  126.083134 -2.131950  1.839880  126.083134  -7.126570   \n",
       "...          ...         ...       ...       ...         ...        ...   \n",
       "9995        9996   98.797112 -4.172046 -9.761022   98.797112  29.434417   \n",
       "9996        9997  145.288377 -0.560509  0.280363  145.288377 -10.615147   \n",
       "9997        9998   82.474812 -1.273415  6.322509   82.474812 -31.068394   \n",
       "9998        9999  105.075030 -0.713320  1.593137  105.075030 -40.745323   \n",
       "9999       10000  111.582741 -1.037001 -7.770376  111.582741 -26.387997   \n",
       "\n",
       "           col6       col7      col8 col9  Class  \n",
       "0     29.935141  23.286328 -0.731711   No      0  \n",
       "1     13.353580  25.323074 -0.585407  Yes      1  \n",
       "2     25.136642 -18.482716  0.294913  Yes      1  \n",
       "3    -20.068924 -12.727652 -0.314209  Yes      0  \n",
       "4      5.519639  -1.759253 -1.065975   No      0  \n",
       "...         ...        ...       ...  ...    ...  \n",
       "9995 -29.283066  -6.550079 -2.086023   No      1  \n",
       "9996   0.841089   6.987163 -0.280254   No      1  \n",
       "9997  18.967528   5.446964 -0.636707  Yes      1  \n",
       "9998   4.779411  -5.748540 -0.356660  Yes      0  \n",
       "9999 -23.311127  19.678987 -0.518501   No      0  \n",
       "\n",
       "[10000 rows x 11 columns]"
      ]
     },
     "execution_count": 4,
     "metadata": {},
     "output_type": "execute_result"
    }
   ],
   "source": [
    "# wczytuję potrzebny zbiór \n",
    "\n",
    "df = pd.read_csv(\"generated3.csv\")\n",
    "df"
   ]
  },
  {
   "cell_type": "code",
   "execution_count": 7,
   "id": "d36cdf9f",
   "metadata": {},
   "outputs": [],
   "source": [
    "y = df.Class\n",
    "X = df.drop(['Unnamed: 0', 'Class'], axis = 1)"
   ]
  },
  {
   "cell_type": "code",
   "execution_count": 10,
   "id": "4faecddb",
   "metadata": {},
   "outputs": [],
   "source": [
    "X_train, X_test, y_train, y_test = train_test_split(X, y, test_size = 0.3)"
   ]
  },
  {
   "cell_type": "code",
   "execution_count": 11,
   "id": "96b9958c",
   "metadata": {},
   "outputs": [],
   "source": [
    "from sklearn.compose import ColumnTransformer\n",
    "from sklearn.preprocessing import OneHotEncoder\n",
    "from sklearn.pipeline import Pipeline\n",
    "from sklearn.preprocessing import StandardScaler\n",
    "from sklearn.impute import SimpleImputer\n",
    "\n",
    "categorical_features = list(X.dtypes[(X.dtypes == 'object') | (X.dtypes == 'category')].index)\n",
    "numerical_features = list(X.dtypes[(X.dtypes != 'object') & (X.dtypes != 'category')].index)\n",
    "\n",
    "categorical_transformer = Pipeline([\n",
    "    ('onehot', OneHotEncoder(handle_unknown = 'ignore'))\n",
    "])\n",
    "\n",
    "numerical_transformer = Pipeline([\n",
    "    ('imputer', SimpleImputer(strategy = 'mean')),\n",
    "    ('scaler', StandardScaler())\n",
    "])\n",
    "\n",
    "preprocessor = ColumnTransformer([\n",
    "    ('onehot', categorical_transformer, categorical_features),\n",
    "    ('scaler', numerical_transformer, numerical_features)\n",
    "])"
   ]
  },
  {
   "cell_type": "code",
   "execution_count": 24,
   "id": "d63bef06",
   "metadata": {},
   "outputs": [],
   "source": [
    "from sklearn.linear_model import LogisticRegression\n",
    "from sklearn.ensemble import RandomForestClassifier\n",
    "\n",
    "pipeline = Pipeline([\n",
    "    ('pre', preprocessor),\n",
    "    ('selector', SelectFromModel(LogisticRegression())),\n",
    "    ('rf', RandomForestClassifier())\n",
    "])"
   ]
  },
  {
   "cell_type": "code",
   "execution_count": 25,
   "id": "5267cadd",
   "metadata": {},
   "outputs": [
    {
     "data": {
      "text/plain": [
       "Pipeline(steps=[('pre',\n",
       "                 ColumnTransformer(transformers=[('onehot',\n",
       "                                                  Pipeline(steps=[('onehot',\n",
       "                                                                   OneHotEncoder(handle_unknown='ignore'))]),\n",
       "                                                  ['col9']),\n",
       "                                                 ('scaler',\n",
       "                                                  Pipeline(steps=[('imputer',\n",
       "                                                                   SimpleImputer()),\n",
       "                                                                  ('scaler',\n",
       "                                                                   StandardScaler())]),\n",
       "                                                  ['col1', 'col2', 'col3',\n",
       "                                                   'col4', 'col5', 'col6',\n",
       "                                                   'col7', 'col8'])])),\n",
       "                ('selector', SelectFromModel(estimator=LogisticRegression())),\n",
       "                ('rf', RandomForestClassifier())])"
      ]
     },
     "execution_count": 25,
     "metadata": {},
     "output_type": "execute_result"
    }
   ],
   "source": [
    "pipeline.fit(X_train, y_train)"
   ]
  },
  {
   "cell_type": "code",
   "execution_count": 26,
   "id": "969134db",
   "metadata": {},
   "outputs": [
    {
     "data": {
      "text/plain": [
       "0.5146666666666667"
      ]
     },
     "execution_count": 26,
     "metadata": {},
     "output_type": "execute_result"
    }
   ],
   "source": [
    "pipeline.score(X_test, y_test)"
   ]
  },
  {
   "cell_type": "code",
   "execution_count": null,
   "id": "92613e0a",
   "metadata": {},
   "outputs": [],
   "source": [
    "######## zrobimy jeszcze gridsearch parametrów  ###############"
   ]
  },
  {
   "cell_type": "code",
   "execution_count": 33,
   "id": "fe98a0d7",
   "metadata": {},
   "outputs": [],
   "source": [
    "from sklearn.model_selection import GridSearchCV\n",
    "pipeline = Pipeline([\n",
    "    ('pre', preprocessor),\n",
    "    ('selector', SelectFromModel(LogisticRegression())),\n",
    "    ('rf', RandomForestClassifier())\n",
    "])\n",
    "\n",
    "params = {\n",
    "    \n",
    "    'rf__max_depth': [5, 6, 7, 8, 9, 10, 11, 12],\n",
    "    'rf__min_samples_split': [2, 3, 4, 5],\n",
    "    'rf__min_samples_leaf': [3, 4, 5, 6, 7, 8, 9]\n",
    "}\n",
    "\n",
    "grid_pipeline = GridSearchCV(pipeline,\n",
    "                             cv = 3,\n",
    "                             param_grid = params)"
   ]
  },
  {
   "cell_type": "code",
   "execution_count": 34,
   "id": "f97c7038",
   "metadata": {},
   "outputs": [
    {
     "data": {
      "text/plain": [
       "GridSearchCV(cv=3,\n",
       "             estimator=Pipeline(steps=[('pre',\n",
       "                                        ColumnTransformer(transformers=[('onehot',\n",
       "                                                                         Pipeline(steps=[('onehot',\n",
       "                                                                                          OneHotEncoder(handle_unknown='ignore'))]),\n",
       "                                                                         ['col9']),\n",
       "                                                                        ('scaler',\n",
       "                                                                         Pipeline(steps=[('imputer',\n",
       "                                                                                          SimpleImputer()),\n",
       "                                                                                         ('scaler',\n",
       "                                                                                          StandardScaler())]),\n",
       "                                                                         ['col1',\n",
       "                                                                          'col2',\n",
       "                                                                          'col3',\n",
       "                                                                          'col4',\n",
       "                                                                          'col5',\n",
       "                                                                          'col6',\n",
       "                                                                          'col7',\n",
       "                                                                          'col8'])])),\n",
       "                                       ('selector',\n",
       "                                        SelectFromModel(estimator=LogisticRegression())),\n",
       "                                       ('rf', RandomForestClassifier())]),\n",
       "             param_grid={'rf__max_depth': [5, 6, 7, 8, 9, 10, 11, 12],\n",
       "                         'rf__min_samples_leaf': [3, 4, 5, 6, 7, 8, 9],\n",
       "                         'rf__min_samples_split': [2, 3, 4, 5]})"
      ]
     },
     "execution_count": 34,
     "metadata": {},
     "output_type": "execute_result"
    }
   ],
   "source": [
    "grid_pipeline.fit(X_train, y_train)"
   ]
  },
  {
   "cell_type": "code",
   "execution_count": 36,
   "id": "858488b9",
   "metadata": {},
   "outputs": [
    {
     "data": {
      "text/plain": [
       "{'rf__max_depth': 5, 'rf__min_samples_leaf': 6, 'rf__min_samples_split': 5}"
      ]
     },
     "execution_count": 36,
     "metadata": {},
     "output_type": "execute_result"
    }
   ],
   "source": [
    "grid_pipeline.best_params_"
   ]
  },
  {
   "cell_type": "code",
   "execution_count": 38,
   "id": "6039b212",
   "metadata": {},
   "outputs": [
    {
     "data": {
      "text/plain": [
       "0.527571633749123"
      ]
     },
     "execution_count": 38,
     "metadata": {},
     "output_type": "execute_result"
    }
   ],
   "source": [
    "grid_pipeline.best_score_"
   ]
  },
  {
   "cell_type": "code",
   "execution_count": 41,
   "id": "3debf496",
   "metadata": {},
   "outputs": [
    {
     "data": {
      "text/plain": [
       "Pipeline(steps=[('pre',\n",
       "                 ColumnTransformer(transformers=[('onehot',\n",
       "                                                  Pipeline(steps=[('onehot',\n",
       "                                                                   OneHotEncoder(handle_unknown='ignore'))]),\n",
       "                                                  ['col9']),\n",
       "                                                 ('scaler',\n",
       "                                                  Pipeline(steps=[('imputer',\n",
       "                                                                   SimpleImputer()),\n",
       "                                                                  ('scaler',\n",
       "                                                                   StandardScaler())]),\n",
       "                                                  ['col1', 'col2', 'col3',\n",
       "                                                   'col4', 'col5', 'col6',\n",
       "                                                   'col7', 'col8'])])),\n",
       "                ('selector', SelectFromModel(estimator=LogisticRegression())),\n",
       "                ('rf',\n",
       "                 RandomForestClassifier(max_depth=5, min_samples_leaf=6,\n",
       "                                        min_samples_split=5))])"
      ]
     },
     "execution_count": 41,
     "metadata": {},
     "output_type": "execute_result"
    }
   ],
   "source": [
    "rf_best = grid_pipeline.best_estimator_\n",
    "rf_best.fit(X_train, y_train)  "
   ]
  },
  {
   "cell_type": "code",
   "execution_count": 43,
   "id": "5c348a36",
   "metadata": {},
   "outputs": [
    {
     "data": {
      "text/plain": [
       "0.5196666666666667"
      ]
     },
     "execution_count": 43,
     "metadata": {},
     "output_type": "execute_result"
    }
   ],
   "source": [
    "rf_best.score(X_test, y_test)"
   ]
  },
  {
   "cell_type": "code",
   "execution_count": null,
   "id": "a67108ef",
   "metadata": {},
   "outputs": [],
   "source": [
    "########## spróbujmy jeszcze na delikatnie zmodyfikowanym zbiorze danych ###########"
   ]
  },
  {
   "cell_type": "code",
   "execution_count": 89,
   "id": "3f03a337",
   "metadata": {},
   "outputs": [],
   "source": [
    "df2 = pd.read_csv(\"generated4.csv\")\n",
    "df = df.loc[:, ~df.columns.duplicated()]"
   ]
  },
  {
   "cell_type": "markdown",
   "id": "1fb97424",
   "metadata": {},
   "source": [
    "## y2 = df2.Class\n",
    "X2 = df2.drop(['Unnamed: 0', 'Class'], axis = 1)\n",
    "X2_train, X2_test, y2_train, y2_test = train_test_split(X2, y2, test_size = 0.3)"
   ]
  },
  {
   "cell_type": "code",
   "execution_count": 56,
   "id": "2a911ca7",
   "metadata": {},
   "outputs": [
    {
     "data": {
      "text/plain": [
       "662     1\n",
       "7544    0\n",
       "6360    1\n",
       "7732    1\n",
       "7448    1\n",
       "       ..\n",
       "2280    1\n",
       "3286    0\n",
       "5166    0\n",
       "12      1\n",
       "9904    1\n",
       "Name: Class, Length: 7000, dtype: int64"
      ]
     },
     "execution_count": 56,
     "metadata": {},
     "output_type": "execute_result"
    }
   ],
   "source": [
    "y2_train"
   ]
  },
  {
   "cell_type": "code",
   "execution_count": 92,
   "id": "f120fdf7",
   "metadata": {},
   "outputs": [],
   "source": [
    "numerical_features2 = list(X2.dtypes[(X2.dtypes != 'object') & (X.dtypes != 'category')].index)"
   ]
  },
  {
   "cell_type": "code",
   "execution_count": 93,
   "id": "7a5844e6",
   "metadata": {},
   "outputs": [],
   "source": [
    "numerical_transformer = Pipeline([\n",
    "    ('imputer', SimpleImputer(strategy = 'mean')),\n",
    "    ('scaler', StandardScaler())\n",
    "])\n",
    "\n",
    "preprocessor2 = ColumnTransformer([\n",
    "    ('scaler', numerical_transformer, numerical_features2)\n",
    "])"
   ]
  },
  {
   "cell_type": "code",
   "execution_count": 94,
   "id": "2210b6ed",
   "metadata": {},
   "outputs": [],
   "source": [
    "pipeline2 = Pipeline([\n",
    "    ('pre', preprocessor2),\n",
    "    ('selector', SelectFromModel(LogisticRegression())),\n",
    "    ('rf', RandomForestClassifier())\n",
    "])"
   ]
  },
  {
   "cell_type": "code",
   "execution_count": 95,
   "id": "5681984f",
   "metadata": {},
   "outputs": [
    {
     "data": {
      "text/plain": [
       "Pipeline(steps=[('pre',\n",
       "                 ColumnTransformer(transformers=[('scaler',\n",
       "                                                  Pipeline(steps=[('imputer',\n",
       "                                                                   SimpleImputer()),\n",
       "                                                                  ('scaler',\n",
       "                                                                   StandardScaler())]),\n",
       "                                                  ['col1', 'col2', 'col3',\n",
       "                                                   'col4', 'col5', 'col6',\n",
       "                                                   'col7', 'col8'])])),\n",
       "                ('selector', SelectFromModel(estimator=LogisticRegression())),\n",
       "                ('rf', RandomForestClassifier())])"
      ]
     },
     "execution_count": 95,
     "metadata": {},
     "output_type": "execute_result"
    }
   ],
   "source": [
    "pipeline2.fit(X2_train, y2_train)"
   ]
  },
  {
   "cell_type": "code",
   "execution_count": 97,
   "id": "e186dbc7",
   "metadata": {},
   "outputs": [
    {
     "data": {
      "text/plain": [
       "0.9286666666666666"
      ]
     },
     "execution_count": 97,
     "metadata": {},
     "output_type": "execute_result"
    }
   ],
   "source": [
    "pipeline2.score(X2_test, y2_test)"
   ]
  },
  {
   "cell_type": "code",
   "execution_count": null,
   "id": "8d3c8fd7",
   "metadata": {},
   "outputs": [],
   "source": [
    "####### teraz gridsearch #########"
   ]
  },
  {
   "cell_type": "code",
   "execution_count": 98,
   "id": "ce8d9d37",
   "metadata": {},
   "outputs": [],
   "source": [
    "params = {\n",
    "    \n",
    "    'rf__max_depth': [5, 6, 7, 8, 9, 10, 11, 12],\n",
    "    'rf__min_samples_split': [2, 3, 4, 5],\n",
    "    'rf__min_samples_leaf': [3, 4, 5, 6, 7, 8, 9]\n",
    "}\n",
    "\n",
    "grid_pipeline2 = GridSearchCV(pipeline2,\n",
    "                             cv = 3,\n",
    "                             param_grid = params)"
   ]
  },
  {
   "cell_type": "code",
   "execution_count": 99,
   "id": "52d86dc8",
   "metadata": {},
   "outputs": [
    {
     "data": {
      "text/plain": [
       "GridSearchCV(cv=3,\n",
       "             estimator=Pipeline(steps=[('pre',\n",
       "                                        ColumnTransformer(transformers=[('scaler',\n",
       "                                                                         Pipeline(steps=[('imputer',\n",
       "                                                                                          SimpleImputer()),\n",
       "                                                                                         ('scaler',\n",
       "                                                                                          StandardScaler())]),\n",
       "                                                                         ['col1',\n",
       "                                                                          'col2',\n",
       "                                                                          'col3',\n",
       "                                                                          'col4',\n",
       "                                                                          'col5',\n",
       "                                                                          'col6',\n",
       "                                                                          'col7',\n",
       "                                                                          'col8'])])),\n",
       "                                       ('selector',\n",
       "                                        SelectFromModel(estimator=LogisticRegression())),\n",
       "                                       ('rf', RandomForestClassifier())]),\n",
       "             param_grid={'rf__max_depth': [5, 6, 7, 8, 9, 10, 11, 12],\n",
       "                         'rf__min_samples_leaf': [3, 4, 5, 6, 7, 8, 9],\n",
       "                         'rf__min_samples_split': [2, 3, 4, 5]})"
      ]
     },
     "execution_count": 99,
     "metadata": {},
     "output_type": "execute_result"
    }
   ],
   "source": [
    "grid_pipeline2.fit(X_train, y_train)"
   ]
  },
  {
   "cell_type": "code",
   "execution_count": 100,
   "id": "7432fe79",
   "metadata": {},
   "outputs": [
    {
     "data": {
      "text/plain": [
       "0.9317134667175493"
      ]
     },
     "execution_count": 100,
     "metadata": {},
     "output_type": "execute_result"
    }
   ],
   "source": [
    "grid_pipeline2.best_score_"
   ]
  },
  {
   "cell_type": "code",
   "execution_count": 71,
   "id": "84999fd0",
   "metadata": {},
   "outputs": [],
   "source": [
    "estimator = grid_pipeline2.best_estimator_"
   ]
  },
  {
   "cell_type": "code",
   "execution_count": 72,
   "id": "593f4738",
   "metadata": {},
   "outputs": [
    {
     "data": {
      "text/plain": [
       "Pipeline(steps=[('pre',\n",
       "                 ColumnTransformer(transformers=[('scaler',\n",
       "                                                  Pipeline(steps=[('imputer',\n",
       "                                                                   SimpleImputer()),\n",
       "                                                                  ('scaler',\n",
       "                                                                   StandardScaler())]),\n",
       "                                                  ['col1', 'col2', 'col3',\n",
       "                                                   'col4', 'col5', 'col6',\n",
       "                                                   'col7', 'col8'])])),\n",
       "                ('selector', SelectFromModel(estimator=LogisticRegression())),\n",
       "                ('rf',\n",
       "                 RandomForestClassifier(max_depth=11, min_samples_leaf=6))])"
      ]
     },
     "execution_count": 72,
     "metadata": {},
     "output_type": "execute_result"
    }
   ],
   "source": [
    "estimator.fit(X_train, y_train)"
   ]
  },
  {
   "cell_type": "code",
   "execution_count": 74,
   "id": "669722a7",
   "metadata": {},
   "outputs": [
    {
     "data": {
      "text/plain": [
       "array([0, 1, 1, ..., 1, 1, 1], dtype=int64)"
      ]
     },
     "execution_count": 74,
     "metadata": {},
     "output_type": "execute_result"
    }
   ],
   "source": [
    "estimator.predict(X_test)"
   ]
  },
  {
   "cell_type": "code",
   "execution_count": 73,
   "id": "045fbc1b",
   "metadata": {},
   "outputs": [],
   "source": [
    "from sklearn.metrics import roc_auc_score\n"
   ]
  },
  {
   "cell_type": "code",
   "execution_count": 75,
   "id": "99de4727",
   "metadata": {},
   "outputs": [
    {
     "data": {
      "text/plain": [
       "0.9316112531969309"
      ]
     },
     "execution_count": 75,
     "metadata": {},
     "output_type": "execute_result"
    }
   ],
   "source": [
    "roc_auc_score(estimator.predict(X_test), y_test)"
   ]
  },
  {
   "cell_type": "code",
   "execution_count": null,
   "id": "fe0b55af",
   "metadata": {},
   "outputs": [],
   "source": [
    "######## Sprawdzamy co dokładnie z danymi wejsiowymi zrobił preprocessor2 #############"
   ]
  },
  {
   "cell_type": "code",
   "execution_count": 76,
   "id": "8221e7f8",
   "metadata": {},
   "outputs": [
    {
     "data": {
      "text/plain": [
       "ColumnTransformer(transformers=[('scaler',\n",
       "                                 Pipeline(steps=[('imputer', SimpleImputer()),\n",
       "                                                 ('scaler', StandardScaler())]),\n",
       "                                 ['col1', 'col2', 'col3', 'col4', 'col5',\n",
       "                                  'col6', 'col7', 'col8'])])"
      ]
     },
     "execution_count": 76,
     "metadata": {},
     "output_type": "execute_result"
    }
   ],
   "source": [
    "preprocessor2.fit(X2_train)"
   ]
  },
  {
   "cell_type": "code",
   "execution_count": 81,
   "id": "0a10e590",
   "metadata": {},
   "outputs": [],
   "source": [
    "x_preproc_train = preprocessor2.transform(X2_train)"
   ]
  },
  {
   "cell_type": "code",
   "execution_count": 87,
   "id": "5f8f5cc4",
   "metadata": {},
   "outputs": [
    {
     "data": {
      "text/html": [
       "<div>\n",
       "<style scoped>\n",
       "    .dataframe tbody tr th:only-of-type {\n",
       "        vertical-align: middle;\n",
       "    }\n",
       "\n",
       "    .dataframe tbody tr th {\n",
       "        vertical-align: top;\n",
       "    }\n",
       "\n",
       "    .dataframe thead th {\n",
       "        text-align: right;\n",
       "    }\n",
       "</style>\n",
       "<table border=\"1\" class=\"dataframe\">\n",
       "  <thead>\n",
       "    <tr style=\"text-align: right;\">\n",
       "      <th></th>\n",
       "      <th>0</th>\n",
       "      <th>1</th>\n",
       "      <th>2</th>\n",
       "      <th>3</th>\n",
       "      <th>4</th>\n",
       "      <th>5</th>\n",
       "      <th>6</th>\n",
       "      <th>7</th>\n",
       "    </tr>\n",
       "  </thead>\n",
       "  <tbody>\n",
       "    <tr>\n",
       "      <th>0</th>\n",
       "      <td>-0.473452</td>\n",
       "      <td>-0.782651</td>\n",
       "      <td>1.667373</td>\n",
       "      <td>-0.473452</td>\n",
       "      <td>0.498506</td>\n",
       "      <td>1.667373</td>\n",
       "      <td>-1.187835</td>\n",
       "      <td>-0.782651</td>\n",
       "    </tr>\n",
       "    <tr>\n",
       "      <th>1</th>\n",
       "      <td>0.606351</td>\n",
       "      <td>-0.348236</td>\n",
       "      <td>-0.872544</td>\n",
       "      <td>0.606351</td>\n",
       "      <td>-0.328083</td>\n",
       "      <td>-0.872544</td>\n",
       "      <td>0.728721</td>\n",
       "      <td>-0.348236</td>\n",
       "    </tr>\n",
       "    <tr>\n",
       "      <th>2</th>\n",
       "      <td>-0.056521</td>\n",
       "      <td>0.334084</td>\n",
       "      <td>1.595220</td>\n",
       "      <td>-0.056521</td>\n",
       "      <td>-1.494359</td>\n",
       "      <td>1.595220</td>\n",
       "      <td>-0.947132</td>\n",
       "      <td>0.334084</td>\n",
       "    </tr>\n",
       "    <tr>\n",
       "      <th>3</th>\n",
       "      <td>0.361425</td>\n",
       "      <td>0.719443</td>\n",
       "      <td>0.304830</td>\n",
       "      <td>0.361425</td>\n",
       "      <td>1.494581</td>\n",
       "      <td>0.304830</td>\n",
       "      <td>-0.083665</td>\n",
       "      <td>0.719443</td>\n",
       "    </tr>\n",
       "    <tr>\n",
       "      <th>4</th>\n",
       "      <td>0.295745</td>\n",
       "      <td>0.942021</td>\n",
       "      <td>-0.451524</td>\n",
       "      <td>0.295745</td>\n",
       "      <td>0.820016</td>\n",
       "      <td>-0.451524</td>\n",
       "      <td>0.607729</td>\n",
       "      <td>0.942021</td>\n",
       "    </tr>\n",
       "    <tr>\n",
       "      <th>...</th>\n",
       "      <td>...</td>\n",
       "      <td>...</td>\n",
       "      <td>...</td>\n",
       "      <td>...</td>\n",
       "      <td>...</td>\n",
       "      <td>...</td>\n",
       "      <td>...</td>\n",
       "      <td>...</td>\n",
       "    </tr>\n",
       "    <tr>\n",
       "      <th>6995</th>\n",
       "      <td>1.421446</td>\n",
       "      <td>0.372390</td>\n",
       "      <td>1.528255</td>\n",
       "      <td>1.421446</td>\n",
       "      <td>0.597713</td>\n",
       "      <td>1.528255</td>\n",
       "      <td>1.368364</td>\n",
       "      <td>0.372390</td>\n",
       "    </tr>\n",
       "    <tr>\n",
       "      <th>6996</th>\n",
       "      <td>-0.511030</td>\n",
       "      <td>0.158119</td>\n",
       "      <td>-0.822003</td>\n",
       "      <td>-0.511030</td>\n",
       "      <td>0.182532</td>\n",
       "      <td>-0.822003</td>\n",
       "      <td>1.062433</td>\n",
       "      <td>0.158119</td>\n",
       "    </tr>\n",
       "    <tr>\n",
       "      <th>6997</th>\n",
       "      <td>0.373099</td>\n",
       "      <td>0.778840</td>\n",
       "      <td>-0.967925</td>\n",
       "      <td>0.373099</td>\n",
       "      <td>0.495737</td>\n",
       "      <td>-0.967925</td>\n",
       "      <td>0.971164</td>\n",
       "      <td>0.778840</td>\n",
       "    </tr>\n",
       "    <tr>\n",
       "      <th>6998</th>\n",
       "      <td>-0.785680</td>\n",
       "      <td>-0.401369</td>\n",
       "      <td>0.081948</td>\n",
       "      <td>-0.785680</td>\n",
       "      <td>1.565270</td>\n",
       "      <td>0.081948</td>\n",
       "      <td>-0.613676</td>\n",
       "      <td>-0.401369</td>\n",
       "    </tr>\n",
       "    <tr>\n",
       "      <th>6999</th>\n",
       "      <td>0.874050</td>\n",
       "      <td>-1.091300</td>\n",
       "      <td>0.336128</td>\n",
       "      <td>0.874050</td>\n",
       "      <td>1.265946</td>\n",
       "      <td>0.336128</td>\n",
       "      <td>1.486104</td>\n",
       "      <td>-1.091300</td>\n",
       "    </tr>\n",
       "  </tbody>\n",
       "</table>\n",
       "<p>7000 rows × 8 columns</p>\n",
       "</div>"
      ],
      "text/plain": [
       "             0         1         2         3         4         5         6  \\\n",
       "0    -0.473452 -0.782651  1.667373 -0.473452  0.498506  1.667373 -1.187835   \n",
       "1     0.606351 -0.348236 -0.872544  0.606351 -0.328083 -0.872544  0.728721   \n",
       "2    -0.056521  0.334084  1.595220 -0.056521 -1.494359  1.595220 -0.947132   \n",
       "3     0.361425  0.719443  0.304830  0.361425  1.494581  0.304830 -0.083665   \n",
       "4     0.295745  0.942021 -0.451524  0.295745  0.820016 -0.451524  0.607729   \n",
       "...        ...       ...       ...       ...       ...       ...       ...   \n",
       "6995  1.421446  0.372390  1.528255  1.421446  0.597713  1.528255  1.368364   \n",
       "6996 -0.511030  0.158119 -0.822003 -0.511030  0.182532 -0.822003  1.062433   \n",
       "6997  0.373099  0.778840 -0.967925  0.373099  0.495737 -0.967925  0.971164   \n",
       "6998 -0.785680 -0.401369  0.081948 -0.785680  1.565270  0.081948 -0.613676   \n",
       "6999  0.874050 -1.091300  0.336128  0.874050  1.265946  0.336128  1.486104   \n",
       "\n",
       "             7  \n",
       "0    -0.782651  \n",
       "1    -0.348236  \n",
       "2     0.334084  \n",
       "3     0.719443  \n",
       "4     0.942021  \n",
       "...        ...  \n",
       "6995  0.372390  \n",
       "6996  0.158119  \n",
       "6997  0.778840  \n",
       "6998 -0.401369  \n",
       "6999 -1.091300  \n",
       "\n",
       "[7000 rows x 8 columns]"
      ]
     },
     "execution_count": 87,
     "metadata": {},
     "output_type": "execute_result"
    }
   ],
   "source": [
    "pd.DataFrame(x_preproc_train)"
   ]
  },
  {
   "cell_type": "code",
   "execution_count": 101,
   "id": "b0ee383b",
   "metadata": {},
   "outputs": [],
   "source": [
    "from sklearn.svm import SVC"
   ]
  },
  {
   "cell_type": "code",
   "execution_count": 104,
   "id": "e5e918e2",
   "metadata": {},
   "outputs": [],
   "source": [
    "pipeline_svm = Pipeline([\n",
    "    ('pre', preprocessor2),\n",
    "    ('selector', SelectFromModel(LogisticRegression())),\n",
    "    ('svm', SVC(probability = True))\n",
    "])"
   ]
  },
  {
   "cell_type": "code",
   "execution_count": 105,
   "id": "79bf9099",
   "metadata": {},
   "outputs": [],
   "source": [
    "svm_grid = GridSearchCV(pipeline_svm,   \n",
    "                        {'svm__C': [0.001, 0.01, 0.1, 10,  100]},\n",
    "                         refit = True,\n",
    "                         cv = 3,\n",
    "                        )"
   ]
  },
  {
   "cell_type": "code",
   "execution_count": 107,
   "id": "cfa171bf",
   "metadata": {},
   "outputs": [
    {
     "data": {
      "text/plain": [
       "GridSearchCV(cv=3,\n",
       "             estimator=Pipeline(steps=[('pre',\n",
       "                                        ColumnTransformer(transformers=[('scaler',\n",
       "                                                                         Pipeline(steps=[('imputer',\n",
       "                                                                                          SimpleImputer()),\n",
       "                                                                                         ('scaler',\n",
       "                                                                                          StandardScaler())]),\n",
       "                                                                         ['col1',\n",
       "                                                                          'col2',\n",
       "                                                                          'col3',\n",
       "                                                                          'col4',\n",
       "                                                                          'col5',\n",
       "                                                                          'col6',\n",
       "                                                                          'col7',\n",
       "                                                                          'col8'])])),\n",
       "                                       ('selector',\n",
       "                                        SelectFromModel(estimator=LogisticRegression())),\n",
       "                                       ('svm', SVC(probability=True))]),\n",
       "             param_grid={'svm__C': [0.001, 0.01, 0.1, 10, 100]})"
      ]
     },
     "execution_count": 107,
     "metadata": {},
     "output_type": "execute_result"
    }
   ],
   "source": [
    "svm_grid.fit(X2_train, y2_train)"
   ]
  },
  {
   "cell_type": "code",
   "execution_count": 108,
   "id": "7b5ca773",
   "metadata": {},
   "outputs": [
    {
     "data": {
      "text/plain": [
       "0.9345715687379994"
      ]
     },
     "execution_count": 108,
     "metadata": {},
     "output_type": "execute_result"
    }
   ],
   "source": [
    "svm_grid.best_score_"
   ]
  }
 ],
 "metadata": {
  "kernelspec": {
   "display_name": "Python 3 (ipykernel)",
   "language": "python",
   "name": "python3"
  },
  "language_info": {
   "codemirror_mode": {
    "name": "ipython",
    "version": 3
   },
   "file_extension": ".py",
   "mimetype": "text/x-python",
   "name": "python",
   "nbconvert_exporter": "python",
   "pygments_lexer": "ipython3",
   "version": "3.9.12"
  }
 },
 "nbformat": 4,
 "nbformat_minor": 5
}
